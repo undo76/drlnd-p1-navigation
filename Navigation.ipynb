{
 "cells": [
  {
   "cell_type": "markdown",
   "metadata": {},
   "source": [
    "# Navigation Project Report\n",
    "\n",
    "---\n",
    "\n",
    "## Description \n",
    "\n",
    "\n",
    "The goal of this project is to train an agent to pick up yellow bananas and avoid blue ones in an ML-Unity environment.\n",
    "\n",
    "In order to navigate the environment, I built and trained a DQN agent. The relevant code can be found in `dqn_agent.py`and `model.py`in the same directory as this notebook. What follows is a brief description of the implementation techniques and the parameters.\n",
    "\n",
    "\n",
    "### 1. Target network with Polyak updating\n",
    "\n",
    "It is important to fix the target network when evaluating experiences to improve training stability. In practice, we keep two sets of parameters: $\\theta_{local}$ and $\\theta_{target}$). Instead of copying the parameters $\\theta_{local}$ into $\\theta_{target}$ every $N$ steps, we use Polyak updating, i.e. interpolation, with parameter $\\tau = 10^{-3}$.\n",
    "\n",
    "```python\n",
    "def polyak_update(self, local_model, target_model):\n",
    "    \"\"\"Soft update model parameters.\n",
    "    θ_target = τ*θ_local + (1 - τ)*θ_target\n",
    "\n",
    "    Params\n",
    "    ======\n",
    "        local_model (PyTorch model): weights will be copied from\n",
    "        target_model (PyTorch model): weights will be copied to\n",
    "        tau (float): interpolation parameter \n",
    "    \"\"\"\n",
    "    for target_param, local_param in zip(target_model.parameters(), local_model.parameters()):\n",
    "        target_param.data.copy_(self.tau * local_param.data + (1.0 - self.tau) * target_param.data)\n",
    "```\n",
    "\n",
    "### 2. Experience replay with importance sampling\n",
    "\n",
    "If we just feed our training network with the experiences in the same order as we gather them, the samples would be highly correlated. This correlation can be problematic for several reasons, e.g. concentrating in suboptimal actions while ignoring other promising ones.\n",
    "\n",
    "To decorrelate the experiences we keep a FIFO buffer of $N=10^5$ entries, and during training, we sample them randomly in batches of $Batch_{size}=128$. \n",
    "\n",
    "Also, it has been shown that sampling the most informative experiences more often helps with the training. For each experience, we assign a priority $w_i$ equal to the absolute error of the expected and the actual value of $Q(a \\mid s)$. \n",
    "\n",
    "$$ p_i = \\frac {(w_i + \\varepsilon)^\\eta}{\\sum_j{(wj + \\varepsilon)^\\eta}}, \n",
    "\\varepsilon = 0.0001 , \\eta = 0.5 $$\n",
    "\n",
    "Finally, oversampling some experiences has an effect on the learned distribution. Therefore, we have to scale down the losses according to the experience weight. This effect is only noticiable in the last stages of the training, There is a parameter $\\beta = 1.0$ that we can change during training and controls the magnitude of the scaling down.\n",
    "\n",
    "```python\n",
    "# Compute loss and scale it according to the priority weight\n",
    "loss = F.mse_loss(q_expected, q_targets, reduce=False)\n",
    "loss /= (len(self.memory) * weights) ** self.priority_weight_beta\n",
    "loss = loss.mean()\n",
    "```\n",
    "\n",
    "### 3. Double DQN\n",
    "\n",
    "The vanilla DQN algorithm overestimates $Q$ values as it uses $\\arg\\max$ of the actions. In order to calculate an unbiased estimation, we use two different networks: one to find the $\\arg\\max_{a'_i} {Q(s,a'_i)}$, and other to calculate the value of this particular state-action. The good news is that we don't need to create a new network, as we can use the $Q_{local}$ network for finding the action, and the $Q_{target}$ to calculate the $Q$ values.\n",
    "\n",
    "```python\n",
    "# Get max predicted Q values for next states using Double DQN\n",
    "q_targets_next_actions = self.qnetwork_local(next_states).detach().argmax(1, keepdim=True)\n",
    "q_targets_next = self.qnetwork_target(next_states).detach().gather(1, q_targets_next_actions)\n",
    "```\n",
    "\n",
    "\n",
    "### 4. Duel network\n",
    "\n",
    "Finally, we can make our DQN's life easier building two different regression networks for the *state-value* and the *advantages* (i.e. the deviation from the state-value for each action). Unfortunately, we just cannot naïvely apply a linear combination of both output streams to calculate the $Q$-value, as we would lose the identity of each stream. We can enforce the identity of the combining streams by substracting the mean value, or the maximum value, from the advantages, this way any common offset from the advantages is cancelled and has to be learned in the state-value stream. The implementation uses the mean as it works well even if it diverges from the definition of $Q$-value (i.e. max action value)\n",
    "\n",
    "One advantage of this technique is that it only requires changes in the NN model `model.py`. The final network consists only of lineal units with ReLU non-linearities:\n",
    "\n",
    "```python\n",
    "class QNetwork(nn.Module):\n",
    "    \n",
    "    def __init__(self, state_size, action_size, seed,\n",
    "                 fc1_units=64, fc2_units=64,\n",
    "                 v1_units=32, v2_units=32,\n",
    "                 a1_units=32, a2_units=32):\n",
    "        # ...\n",
    "        \n",
    "        # Common network\n",
    "        self.fc1 = nn.Linear(state_size, fc1_units)\n",
    "        self.fc2 = nn.Linear(fc1_units, fc2_units)\n",
    "\n",
    "        # Duel network - V stream\n",
    "        self.v1 = nn.Linear(fc2_units, v1_units)\n",
    "        self.v2 = nn.Linear(v1_units, v2_units)\n",
    "        self.v3 = nn.Linear(v2_units, 1)\n",
    "\n",
    "        # Duel network - A stream\n",
    "        self.a1 = nn.Linear(fc2_units, a1_units)\n",
    "        self.a2 = nn.Linear(a1_units, a2_units)\n",
    "        self.a3 = nn.Linear(a2_units, action_size)\n",
    "\n",
    "        #  ...\n",
    "        \n",
    "    def forward(self, state):     \n",
    "        \n",
    "        fc1 = F.relu(self.fc1(state))\n",
    "        fc2 = F.relu(self.fc2(fc1))\n",
    "\n",
    "        v1 = F.relu(self.v1(fc2))\n",
    "        v2 = F.relu(self.v2(v1))\n",
    "        v3 = self.v3(v2)\n",
    "\n",
    "        a1 = F.relu(self.a1(fc2))\n",
    "        a2 = F.relu(self.a2(a1))\n",
    "        a3 = self.a3(a2)\n",
    "\n",
    "        # Use the mean in order to keep the identity of the branches\n",
    "        # as in formula (9) of https://arxiv.org/pdf/1511.06581.pdf\n",
    "        q = v3 + (a3 - a3.mean(dim=1, keepdim=True))\n",
    "        \n",
    "        return q\n",
    "```"
   ]
  },
  {
   "cell_type": "markdown",
   "metadata": {},
   "source": [
    "## Training of the DQN agent\n",
    "\n",
    "### 1. Import required libraries"
   ]
  },
  {
   "cell_type": "code",
   "execution_count": 25,
   "metadata": {},
   "outputs": [],
   "source": [
    "%matplotlib inline\n",
    "\n",
    "from unityagents import UnityEnvironment\n",
    "import numpy as np\n",
    "import torch\n",
    "from collections import deque\n",
    "from matplotlib import pyplot as plt\n",
    "from dqn_agent import Agent\n",
    "from model import QNetwork"
   ]
  },
  {
   "cell_type": "markdown",
   "metadata": {},
   "source": [
    "Next, we will start the environment!  **_Before running the code cell below_**, change the `file_name` parameter to match the location of the Unity environment that you downloaded.\n",
    "\n",
    "- **Mac**: `\"path/to/Banana.app\"`\n",
    "- **Windows** (x86): `\"path/to/Banana_Windows_x86/Banana.exe\"`\n",
    "- **Windows** (x86_64): `\"path/to/Banana_Windows_x86_64/Banana.exe\"`\n",
    "- **Linux** (x86): `\"path/to/Banana_Linux/Banana.x86\"`\n",
    "- **Linux** (x86_64): `\"path/to/Banana_Linux/Banana.x86_64\"`\n",
    "- **Linux** (x86, headless): `\"path/to/Banana_Linux_NoVis/Banana.x86\"`\n",
    "- **Linux** (x86_64, headless): `\"path/to/Banana_Linux_NoVis/Banana.x86_64\"`\n",
    "\n",
    "For instance, if you are using a Mac, then you downloaded `Banana.app`.  If this file is in the same folder as the notebook, then the line below should appear as follows:\n",
    "```\n",
    "env = UnityEnvironment(file_name=\"Banana.app\")\n",
    "```"
   ]
  },
  {
   "cell_type": "code",
   "execution_count": 26,
   "metadata": {},
   "outputs": [
    {
     "name": "stderr",
     "output_type": "stream",
     "text": [
      "INFO:unityagents:\n",
      "'Academy' started successfully!\n",
      "Unity Academy name: Academy\n",
      "        Number of Brains: 1\n",
      "        Number of External Brains : 1\n",
      "        Lesson number : 0\n",
      "        Reset Parameters :\n",
      "\t\t\n",
      "Unity brain name: BananaBrain\n",
      "        Number of Visual Observations (per agent): 0\n",
      "        Vector Observation space type: continuous\n",
      "        Vector Observation space size (per agent): 37\n",
      "        Number of stacked Vector Observation: 1\n",
      "        Vector Action space type: discrete\n",
      "        Vector Action space size (per agent): 4\n",
      "        Vector Action descriptions: , , , \n"
     ]
    }
   ],
   "source": [
    "# Change this line, according to your environment\n",
    "env = UnityEnvironment(file_name=\"Banana.app\")"
   ]
  },
  {
   "cell_type": "markdown",
   "metadata": {},
   "source": [
    "Environments contain **_brains_** which are responsible for deciding the actions of their associated agents. Here we check for the first brain available, and set it as the default brain we will be controlling from Python."
   ]
  },
  {
   "cell_type": "code",
   "execution_count": 27,
   "metadata": {
    "pycharm": {
     "name": "#%%\n"
    }
   },
   "outputs": [],
   "source": [
    "# get the default brain\n",
    "brain_name = env.brain_names[0]\n",
    "brain = env.brains[brain_name]"
   ]
  },
  {
   "cell_type": "markdown",
   "metadata": {},
   "source": [
    "### 2. Examine the State and Action Spaces\n",
    "\n",
    "The simulation contains a single agent that navigates a large environment.  At each time step, it has four actions at its disposal:\n",
    "- `0` - walk forward \n",
    "- `1` - walk backward\n",
    "- `2` - turn left\n",
    "- `3` - turn right\n",
    "\n",
    "The state space has `37` dimensions and contains the agent's velocity, along with ray-based perception of objects around agent's forward direction.  A reward of `+1` is provided for collecting a yellow banana, and a reward of `-1` is provided for collecting a blue banana. \n",
    "\n",
    "Run the code cell below to print some information about the environment."
   ]
  },
  {
   "cell_type": "code",
   "execution_count": 23,
   "metadata": {},
   "outputs": [
    {
     "name": "stdout",
     "output_type": "stream",
     "text": [
      "Number of agents: 1\n",
      "Number of actions: 4\n",
      "States look like: [1.         0.         0.         0.         0.84408134 0.\n",
      " 0.         1.         0.         0.0748472  0.         1.\n",
      " 0.         0.         0.25755    1.         0.         0.\n",
      " 0.         0.74177343 0.         1.         0.         0.\n",
      " 0.25854847 0.         0.         1.         0.         0.09355672\n",
      " 0.         1.         0.         0.         0.31969345 0.\n",
      " 0.        ]\n",
      "States have length: 37\n"
     ]
    }
   ],
   "source": [
    "# reset the environment\n",
    "env_info = env.reset(train_mode=True)[brain_name]\n",
    "\n",
    "# number of agents in the environment\n",
    "print('Number of agents:', len(env_info.agents))\n",
    "\n",
    "# number of actions\n",
    "action_size = brain.vector_action_space_size\n",
    "print('Number of actions:', action_size)\n",
    "\n",
    "# examine the state space \n",
    "state = env_info.vector_observations[0]\n",
    "print('States look like:', state)\n",
    "state_size = len(state)\n",
    "print('States have length:', state_size)"
   ]
  },
  {
   "cell_type": "markdown",
   "metadata": {},
   "source": [
    "### 3. Training function\n",
    "\n",
    "This is the definition of the training function we use to train our DQN network. It uses $\\epsilon$-greedy policy with decay."
   ]
  },
  {
   "cell_type": "code",
   "execution_count": 2,
   "metadata": {
    "pycharm": {
     "name": "#%%\n"
    }
   },
   "outputs": [],
   "source": [
    "def dqn(env, agent, n_episodes=1500, max_t=10000, eps_start=1.0, eps_end=0.01, eps_decay=0.995):\n",
    "    \"\"\"Deep Q-Learning.\n",
    "\n",
    "    Params\n",
    "    ======\n",
    "        n_episodes (int): maximum number of training episodes\n",
    "        max_t (int): maximum number of timesteps per episode\n",
    "        eps_start (float): starting value of epsilon, for epsilon-greedy action selection\n",
    "        eps_end (float): minimum value of epsilon\n",
    "        eps_decay (float): multiplicative factor (per episode) for decreasing epsilon\n",
    "    \"\"\"\n",
    "    scores = []                        # list containing scores from each episode\n",
    "    scores_window = deque(maxlen=100)  # last 100 scores\n",
    "    eps = eps_start                    # initialize epsilon\n",
    "    \n",
    "    brain_name = env.brain_names[0]\n",
    "    brain = env.brains[brain_name]\n",
    " \n",
    "    for i_episode in range(1, n_episodes+1):\n",
    "        env_info = env.reset(train_mode=True)[brain_name] # reset the environment\n",
    "        state = env_info.vector_observations[0]            # get the current state\n",
    "        score = 0\n",
    "        for t in range(max_t):\n",
    "            action = agent.act(state, eps)\n",
    "            env_info = env.step(action)[brain_name]        # send the action to the environment\n",
    "            next_state = env_info.vector_observations[0]   # get the next state\n",
    "            reward = env_info.rewards[0]                   # get the reward\n",
    "            done = env_info.local_done[0] \n",
    "            agent.step(state, action, reward, next_state, done)\n",
    "            state = next_state\n",
    "            score += reward\n",
    "            if done:\n",
    "                break\n",
    "        scores_window.append(score)       # save most recent score\n",
    "        scores.append(score)              # save most recent score\n",
    "        eps = max(eps_end, eps_decay*eps) # decrease epsilon\n",
    "        print('\\rEpisode {}\\tScore: {}\\tAverage Score: {:.2f}\\teps: {:.2f}'.format(i_episode, score, np.mean(scores_window), eps), end=\"\")\n",
    "    return scores"
   ]
  },
  {
   "cell_type": "markdown",
   "metadata": {},
   "source": [
    "### 4. Launch training"
   ]
  },
  {
   "cell_type": "code",
   "execution_count": null,
   "metadata": {
    "pycharm": {
     "name": "#%%\n"
    },
    "scrolled": true
   },
   "outputs": [],
   "source": [
    "# Get state and action information about the environment\n",
    "brain_name = env.brain_names[0]\n",
    "brain = env.brains[brain_name]\n",
    "env_info = env.reset(train_mode=True)[brain_name] # reset the environment\n",
    "state = env_info.vector_observations[0]            # get the current state\n",
    "\n",
    "# Create an agent\n",
    "agent = Agent(QNetwork, len(state), brain.vector_action_space_size, seed=42)\n",
    "\n",
    "# Execute training\n",
    "scores = dqn(env, agent, eps_start=0.99)\n",
    "\n",
    "# Save trained parameters\n",
    "torch.save(agent.qnetwork_local.state_dict(), 'checkpoint.pth')"
   ]
  },
  {
   "cell_type": "markdown",
   "metadata": {},
   "source": [
    "### 5. Show training progress results"
   ]
  },
  {
   "cell_type": "code",
   "execution_count": null,
   "metadata": {
    "pycharm": {
     "name": "#%%\n"
    },
    "scrolled": true
   },
   "outputs": [],
   "source": [
    "# plot the scores\n",
    "fig = plt.figure()\n",
    "ax = fig.add_subplot(111)\n",
    "plt.plot(np.arange(len(scores)), scores)\n",
    "plt.ylabel('Score')\n",
    "plt.xlabel('Episode #')\n",
    "plt.show()"
   ]
  },
  {
   "cell_type": "markdown",
   "metadata": {},
   "source": [
    "### 6. Execute an episode with the trained agent"
   ]
  },
  {
   "cell_type": "code",
   "execution_count": 17,
   "metadata": {
    "scrolled": false
   },
   "outputs": [
    {
     "name": "stdout",
     "output_type": "stream",
     "text": [
      "Score: 20.0\n"
     ]
    }
   ],
   "source": [
    "brain_name = env.brain_names[0]\n",
    "brain = env.brains[brain_name]\n",
    "env_info = env.reset(train_mode=False)[brain_name] # reset the environment\n",
    "state = env_info.vector_observations[0]            # get the current state\n",
    "score = 0                                          # initialize the score\n",
    "\n",
    "# Create agent\n",
    "agent = Agent(network,len(state), brain.vector_action_space_size, seed=42)\n",
    "\n",
    "# Load stored parameters\n",
    "agent.qnetwork_local.load_state_dict(torch.load('checkpoint.pth'))\n",
    "\n",
    "while True:\n",
    "    action = agent.act(state)                      # select an action\n",
    "    env_info = env.step(action)[brain_name]        # send the action to the environment\n",
    "    next_state = env_info.vector_observations[0]   # get the next state\n",
    "    reward = env_info.rewards[0]                   # get the reward\n",
    "    done = env_info.local_done[0]                  # see if episode has finished\n",
    "    score += reward                                # update the score\n",
    "    state = next_state                             # roll over the state to next time step\n",
    "    if done:                                       # exit loop if episode finished\n",
    "        break\n",
    "    \n",
    "print(\"Score: {}\".format(score))"
   ]
  },
  {
   "cell_type": "code",
   "execution_count": null,
   "metadata": {},
   "outputs": [],
   "source": [
    "env.close()"
   ]
  }
 ],
 "metadata": {
  "kernelspec": {
   "display_name": "Python 3",
   "language": "python",
   "name": "python3"
  },
  "language_info": {
   "codemirror_mode": {
    "name": "ipython",
    "version": 3
   },
   "file_extension": ".py",
   "mimetype": "text/x-python",
   "name": "python",
   "nbconvert_exporter": "python",
   "pygments_lexer": "ipython3",
   "version": "3.6.12"
  }
 },
 "nbformat": 4,
 "nbformat_minor": 2
}